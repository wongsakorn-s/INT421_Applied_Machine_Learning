{
 "cells": [
  {
   "cell_type": "markdown",
   "id": "9643b51e-32e8-4df6-b481-3df6337e23b9",
   "metadata": {},
   "source": [
    "#  Classification, Parameter Tuning,  Model Deployment"
   ]
  },
  {
   "cell_type": "markdown",
   "id": "5798e118-5051-449a-b0a0-f4fdc3721d98",
   "metadata": {
    "tags": []
   },
   "source": [
    "## Import Packages"
   ]
  },
  {
   "cell_type": "code",
   "execution_count": 33,
   "id": "e814e5c4-877c-4d83-9e00-00cb5979d76b",
   "metadata": {},
   "outputs": [],
   "source": [
    "import numpy as np \n",
    "import pandas as pd \n",
    "from sklearn.model_selection import train_test_split\n",
    "from sklearn.pipeline import Pipeline\n",
    "from sklearn.preprocessing import LabelEncoder\n",
    "from sklearn.preprocessing import StandardScaler\n",
    "from sklearn.neighbors import KNeighborsClassifier\n",
    "from sklearn.metrics import confusion_matrix, classification_report\n",
    "import matplotlib.pyplot as plt\n",
    "import seaborn as sns\n",
    "\n",
    "import pickle"
   ]
  },
  {
   "cell_type": "markdown",
   "id": "d9b33b9c-3dbd-4a91-a64f-d775878c7966",
   "metadata": {
    "tags": []
   },
   "source": [
    "## Prepare Data"
   ]
  },
  {
   "cell_type": "code",
   "execution_count": 34,
   "id": "38e5ec2f-23ae-4252-a27b-b7359f7edb1f",
   "metadata": {},
   "outputs": [
    {
     "data": {
      "text/html": [
       "<div>\n",
       "<style scoped>\n",
       "    .dataframe tbody tr th:only-of-type {\n",
       "        vertical-align: middle;\n",
       "    }\n",
       "\n",
       "    .dataframe tbody tr th {\n",
       "        vertical-align: top;\n",
       "    }\n",
       "\n",
       "    .dataframe thead th {\n",
       "        text-align: right;\n",
       "    }\n",
       "</style>\n",
       "<table border=\"1\" class=\"dataframe\">\n",
       "  <thead>\n",
       "    <tr style=\"text-align: right;\">\n",
       "      <th></th>\n",
       "      <th>Age</th>\n",
       "      <th>Sex</th>\n",
       "      <th>BP</th>\n",
       "      <th>Cholesterol</th>\n",
       "      <th>Na_to_K</th>\n",
       "      <th>Drug</th>\n",
       "    </tr>\n",
       "  </thead>\n",
       "  <tbody>\n",
       "    <tr>\n",
       "      <th>0</th>\n",
       "      <td>23</td>\n",
       "      <td>F</td>\n",
       "      <td>HIGH</td>\n",
       "      <td>HIGH</td>\n",
       "      <td>25.355</td>\n",
       "      <td>DrugY</td>\n",
       "    </tr>\n",
       "    <tr>\n",
       "      <th>1</th>\n",
       "      <td>47</td>\n",
       "      <td>M</td>\n",
       "      <td>LOW</td>\n",
       "      <td>HIGH</td>\n",
       "      <td>13.093</td>\n",
       "      <td>drugC</td>\n",
       "    </tr>\n",
       "    <tr>\n",
       "      <th>2</th>\n",
       "      <td>47</td>\n",
       "      <td>M</td>\n",
       "      <td>LOW</td>\n",
       "      <td>HIGH</td>\n",
       "      <td>10.114</td>\n",
       "      <td>drugC</td>\n",
       "    </tr>\n",
       "    <tr>\n",
       "      <th>3</th>\n",
       "      <td>28</td>\n",
       "      <td>F</td>\n",
       "      <td>NORMAL</td>\n",
       "      <td>HIGH</td>\n",
       "      <td>7.798</td>\n",
       "      <td>drugX</td>\n",
       "    </tr>\n",
       "    <tr>\n",
       "      <th>4</th>\n",
       "      <td>61</td>\n",
       "      <td>F</td>\n",
       "      <td>LOW</td>\n",
       "      <td>HIGH</td>\n",
       "      <td>18.043</td>\n",
       "      <td>DrugY</td>\n",
       "    </tr>\n",
       "  </tbody>\n",
       "</table>\n",
       "</div>"
      ],
      "text/plain": [
       "   Age Sex      BP Cholesterol  Na_to_K   Drug\n",
       "0   23   F    HIGH        HIGH   25.355  DrugY\n",
       "1   47   M     LOW        HIGH   13.093  drugC\n",
       "2   47   M     LOW        HIGH   10.114  drugC\n",
       "3   28   F  NORMAL        HIGH    7.798  drugX\n",
       "4   61   F     LOW        HIGH   18.043  DrugY"
      ]
     },
     "execution_count": 34,
     "metadata": {},
     "output_type": "execute_result"
    }
   ],
   "source": [
    "df_org = pd.read_csv(\"drug200.csv\")\n",
    "df_org.head()"
   ]
  },
  {
   "cell_type": "code",
   "execution_count": 35,
   "id": "111fa9c7-06f1-4a78-97d9-6efbbd30df72",
   "metadata": {},
   "outputs": [],
   "source": [
    "df = df_org.copy()"
   ]
  },
  {
   "cell_type": "markdown",
   "id": "1a7be508-ff4a-4c3f-8b32-13f7188a84c7",
   "metadata": {
    "tags": []
   },
   "source": [
    "## Handle Missing Data "
   ]
  },
  {
   "cell_type": "code",
   "execution_count": 36,
   "id": "41057e94-1e94-4ed7-8fe4-71c22c1b3dbc",
   "metadata": {},
   "outputs": [
    {
     "data": {
      "text/plain": [
       "Age            0.0\n",
       "Sex            0.0\n",
       "BP             0.0\n",
       "Cholesterol    0.0\n",
       "Na_to_K        0.0\n",
       "Drug           0.0\n",
       "dtype: float64"
      ]
     },
     "execution_count": 36,
     "metadata": {},
     "output_type": "execute_result"
    }
   ],
   "source": [
    "df.isna().sum()/len(df)*100"
   ]
  },
  {
   "cell_type": "code",
   "execution_count": 37,
   "id": "75a20966-8f9c-4542-b542-f69be1d9f65d",
   "metadata": {},
   "outputs": [
    {
     "name": "stdout",
     "output_type": "stream",
     "text": [
      "<class 'pandas.core.frame.DataFrame'>\n",
      "RangeIndex: 200 entries, 0 to 199\n",
      "Data columns (total 6 columns):\n",
      " #   Column       Non-Null Count  Dtype  \n",
      "---  ------       --------------  -----  \n",
      " 0   Age          200 non-null    int64  \n",
      " 1   Sex          200 non-null    object \n",
      " 2   BP           200 non-null    object \n",
      " 3   Cholesterol  200 non-null    object \n",
      " 4   Na_to_K      200 non-null    float64\n",
      " 5   Drug         200 non-null    object \n",
      "dtypes: float64(1), int64(1), object(4)\n",
      "memory usage: 9.5+ KB\n"
     ]
    }
   ],
   "source": [
    "df.info()"
   ]
  },
  {
   "cell_type": "code",
   "execution_count": 38,
   "id": "4e52ae71-cc85-4503-960b-f7d0ed8217fb",
   "metadata": {},
   "outputs": [
    {
     "name": "stdout",
     "output_type": "stream",
     "text": [
      "['F' 'M']\n",
      "['HIGH' 'LOW' 'NORMAL']\n",
      "['HIGH' 'NORMAL']\n",
      "['DrugY' 'drugC' 'drugX' 'drugA' 'drugB']\n"
     ]
    }
   ],
   "source": [
    "print(df['Sex'].unique())\n",
    "print(df['BP'].unique())\n",
    "print(df['Cholesterol'].unique())\n",
    "print(df['Drug'].unique())"
   ]
  },
  {
   "cell_type": "markdown",
   "id": "0e38f3de-6180-4a02-8b9a-5e6ee81db04e",
   "metadata": {
    "tags": []
   },
   "source": [
    "## Categotical Encoding"
   ]
  },
  {
   "cell_type": "code",
   "execution_count": 39,
   "id": "f8848494-1c71-4357-8314-07f41d05dc88",
   "metadata": {
    "tags": []
   },
   "outputs": [
    {
     "data": {
      "text/plain": [
       "Index(['Age', 'Sex', 'BP', 'Cholesterol', 'Na_to_K', 'Drug'], dtype='object')"
      ]
     },
     "execution_count": 39,
     "metadata": {},
     "output_type": "execute_result"
    }
   ],
   "source": [
    "df.columns"
   ]
  },
  {
   "cell_type": "code",
   "execution_count": 40,
   "id": "7e31d760-a510-4fb2-a58b-a812e4204034",
   "metadata": {
    "tags": []
   },
   "outputs": [
    {
     "data": {
      "text/plain": [
       "array(['F', 'M'], dtype=object)"
      ]
     },
     "execution_count": 40,
     "metadata": {},
     "output_type": "execute_result"
    }
   ],
   "source": [
    "df['Sex'].unique()"
   ]
  },
  {
   "cell_type": "code",
   "execution_count": 41,
   "id": "f0a2711a-308a-40e7-a4d0-36032f39316e",
   "metadata": {},
   "outputs": [
    {
     "data": {
      "text/plain": [
       "array(['HIGH', 'LOW', 'NORMAL'], dtype=object)"
      ]
     },
     "execution_count": 41,
     "metadata": {},
     "output_type": "execute_result"
    }
   ],
   "source": [
    "df['BP'].unique()"
   ]
  },
  {
   "cell_type": "code",
   "execution_count": 42,
   "id": "33a38922-3969-4fb7-84c1-e5b8116b5c5a",
   "metadata": {},
   "outputs": [
    {
     "data": {
      "text/plain": [
       "array(['HIGH', 'NORMAL'], dtype=object)"
      ]
     },
     "execution_count": 42,
     "metadata": {},
     "output_type": "execute_result"
    }
   ],
   "source": [
    "df['Cholesterol'].unique()"
   ]
  },
  {
   "cell_type": "code",
   "execution_count": 43,
   "id": "6cf9c6bb-286e-4dbe-b0f5-05209f17a20a",
   "metadata": {},
   "outputs": [
    {
     "data": {
      "text/plain": [
       "array(['DrugY', 'drugC', 'drugX', 'drugA', 'drugB'], dtype=object)"
      ]
     },
     "execution_count": 43,
     "metadata": {},
     "output_type": "execute_result"
    }
   ],
   "source": [
    "df['Drug'].unique()"
   ]
  },
  {
   "cell_type": "code",
   "execution_count": 44,
   "id": "72bf93cf-32af-4609-9ef9-e671e7842047",
   "metadata": {
    "tags": []
   },
   "outputs": [],
   "source": [
    "#Encoding the object columns.\n",
    "from sklearn.preprocessing import LabelEncoder\n",
    "\n",
    "# sex_encoder = LabelEncoder().fit(['F', 'M'])\n",
    "sex_encoder = LabelEncoder().fit(df['Sex'])\n",
    "\n",
    "# bp_encoder = LabelEncoder().fit(['HIGH', 'LOW', 'NORMAL'])\n",
    "bp_encoder = LabelEncoder().fit(df['BP'])\n",
    "\n",
    "# cholesterol_encoder = LabelEncoder().fit(['HIGH', 'NORMAL'])\n",
    "cholesterol_encoder = LabelEncoder().fit(df['Cholesterol'])\n",
    "\n",
    "# drug_encoder = LabelEncoder().fit(['DrugY', 'drugC', 'drugX', 'drugA', 'drugB'])\n",
    "drug_encoder = LabelEncoder().fit(df['Drug'])"
   ]
  },
  {
   "cell_type": "code",
   "execution_count": 45,
   "id": "96084091-e3c3-42ea-ae7e-bfff94bca6cf",
   "metadata": {
    "tags": []
   },
   "outputs": [
    {
     "data": {
      "text/plain": [
       "array(['F', 'M'], dtype=object)"
      ]
     },
     "execution_count": 45,
     "metadata": {},
     "output_type": "execute_result"
    }
   ],
   "source": [
    "sex_encoder.classes_"
   ]
  },
  {
   "cell_type": "code",
   "execution_count": 46,
   "id": "99907349-d51d-49ce-aea8-b295f3a64421",
   "metadata": {},
   "outputs": [
    {
     "data": {
      "text/plain": [
       "array(['HIGH', 'LOW', 'NORMAL'], dtype=object)"
      ]
     },
     "execution_count": 46,
     "metadata": {},
     "output_type": "execute_result"
    }
   ],
   "source": [
    "bp_encoder.classes_"
   ]
  },
  {
   "cell_type": "code",
   "execution_count": 47,
   "id": "3b3cff2d-5146-48f6-8fa1-2202a0a85203",
   "metadata": {},
   "outputs": [
    {
     "data": {
      "text/plain": [
       "array(['HIGH', 'NORMAL'], dtype=object)"
      ]
     },
     "execution_count": 47,
     "metadata": {},
     "output_type": "execute_result"
    }
   ],
   "source": [
    "cholesterol_encoder.classes_"
   ]
  },
  {
   "cell_type": "code",
   "execution_count": 48,
   "id": "8622707a-9c96-4c27-a239-3d539fb5c310",
   "metadata": {},
   "outputs": [
    {
     "data": {
      "text/plain": [
       "array(['DrugY', 'drugA', 'drugB', 'drugC', 'drugX'], dtype=object)"
      ]
     },
     "execution_count": 48,
     "metadata": {},
     "output_type": "execute_result"
    }
   ],
   "source": [
    "drug_encoder.classes_"
   ]
  },
  {
   "cell_type": "code",
   "execution_count": 49,
   "id": "72664010-f573-499f-93ed-970a128bf8ff",
   "metadata": {
    "tags": []
   },
   "outputs": [],
   "source": [
    "#Encode categorical features\n",
    "df['Sex'] = sex_encoder.transform(df['Sex'])\n",
    "df['BP'] = bp_encoder.transform(df['BP'])\n",
    "df['Cholesterol']= cholesterol_encoder.transform(df['Cholesterol'])\n",
    "df['Drug']= drug_encoder.transform(df['Drug'])"
   ]
  },
  {
   "cell_type": "markdown",
   "id": "a7bf2a6f-e927-4742-945d-9932b12b5936",
   "metadata": {
    "tags": []
   },
   "source": [
    "## Train/Test Data Split "
   ]
  },
  {
   "cell_type": "code",
   "execution_count": 50,
   "id": "902d613f-c0e2-4414-b49c-827071fb6cf4",
   "metadata": {
    "tags": []
   },
   "outputs": [],
   "source": [
    "X = df.drop('Drug', axis=1)\n",
    "y = df['Drug']"
   ]
  },
  {
   "cell_type": "code",
   "execution_count": 51,
   "id": "6435552b-4f6f-4a7a-af41-57096d973680",
   "metadata": {},
   "outputs": [
    {
     "data": {
      "text/html": [
       "<div>\n",
       "<style scoped>\n",
       "    .dataframe tbody tr th:only-of-type {\n",
       "        vertical-align: middle;\n",
       "    }\n",
       "\n",
       "    .dataframe tbody tr th {\n",
       "        vertical-align: top;\n",
       "    }\n",
       "\n",
       "    .dataframe thead th {\n",
       "        text-align: right;\n",
       "    }\n",
       "</style>\n",
       "<table border=\"1\" class=\"dataframe\">\n",
       "  <thead>\n",
       "    <tr style=\"text-align: right;\">\n",
       "      <th></th>\n",
       "      <th>Age</th>\n",
       "      <th>Sex</th>\n",
       "      <th>BP</th>\n",
       "      <th>Cholesterol</th>\n",
       "      <th>Na_to_K</th>\n",
       "    </tr>\n",
       "  </thead>\n",
       "  <tbody>\n",
       "    <tr>\n",
       "      <th>0</th>\n",
       "      <td>23</td>\n",
       "      <td>0</td>\n",
       "      <td>0</td>\n",
       "      <td>0</td>\n",
       "      <td>25.355</td>\n",
       "    </tr>\n",
       "    <tr>\n",
       "      <th>1</th>\n",
       "      <td>47</td>\n",
       "      <td>1</td>\n",
       "      <td>1</td>\n",
       "      <td>0</td>\n",
       "      <td>13.093</td>\n",
       "    </tr>\n",
       "    <tr>\n",
       "      <th>2</th>\n",
       "      <td>47</td>\n",
       "      <td>1</td>\n",
       "      <td>1</td>\n",
       "      <td>0</td>\n",
       "      <td>10.114</td>\n",
       "    </tr>\n",
       "    <tr>\n",
       "      <th>3</th>\n",
       "      <td>28</td>\n",
       "      <td>0</td>\n",
       "      <td>2</td>\n",
       "      <td>0</td>\n",
       "      <td>7.798</td>\n",
       "    </tr>\n",
       "    <tr>\n",
       "      <th>4</th>\n",
       "      <td>61</td>\n",
       "      <td>0</td>\n",
       "      <td>1</td>\n",
       "      <td>0</td>\n",
       "      <td>18.043</td>\n",
       "    </tr>\n",
       "  </tbody>\n",
       "</table>\n",
       "</div>"
      ],
      "text/plain": [
       "   Age  Sex  BP  Cholesterol  Na_to_K\n",
       "0   23    0   0            0   25.355\n",
       "1   47    1   1            0   13.093\n",
       "2   47    1   1            0   10.114\n",
       "3   28    0   2            0    7.798\n",
       "4   61    0   1            0   18.043"
      ]
     },
     "execution_count": 51,
     "metadata": {},
     "output_type": "execute_result"
    }
   ],
   "source": [
    "X.head()"
   ]
  },
  {
   "cell_type": "code",
   "execution_count": 52,
   "id": "7175331b-8437-4ff8-82a6-7579a822fa0f",
   "metadata": {},
   "outputs": [
    {
     "data": {
      "text/plain": [
       "0    0\n",
       "1    3\n",
       "2    3\n",
       "3    4\n",
       "4    0\n",
       "Name: Drug, dtype: int32"
      ]
     },
     "execution_count": 52,
     "metadata": {},
     "output_type": "execute_result"
    }
   ],
   "source": [
    "y.head()"
   ]
  },
  {
   "cell_type": "code",
   "execution_count": 53,
   "id": "61bcd235-7777-487c-a3b1-221dace3ba10",
   "metadata": {
    "tags": []
   },
   "outputs": [],
   "source": [
    "# Split data into features and target\n",
    "# Split data into train and test sets\n",
    "X_train, X_test, y_train, y_test = train_test_split(X, y, test_size=0.2, random_state=42)"
   ]
  },
  {
   "cell_type": "markdown",
   "id": "d282fa7b-eda4-4cd2-a2b9-9b404e245c25",
   "metadata": {
    "tags": []
   },
   "source": [
    "## Trining / Create Model using Support Vector Machines"
   ]
  },
  {
   "cell_type": "markdown",
   "id": "1f26156c-0b8a-4a3e-b56d-0a5c1fa09cf7",
   "metadata": {
    "tags": []
   },
   "source": [
    "### Grid Search"
   ]
  },
  {
   "cell_type": "code",
   "execution_count": 62,
   "id": "d3947f4f-7f4e-4a67-8f62-9bf73d9b0d6e",
   "metadata": {},
   "outputs": [
    {
     "name": "stdout",
     "output_type": "stream",
     "text": [
      "Best Hyperparameters: {'svm__C': 10, 'svm__gamma': 0.001, 'svm__kernel': 'linear'}\n",
      "Test Accuracy: 1.0\n"
     ]
    }
   ],
   "source": [
    "import numpy as np\n",
    "import matplotlib.pyplot as plt\n",
    "import seaborn as sns\n",
    "from sklearn.model_selection import train_test_split , GridSearchCV\n",
    "from sklearn.preprocessing import StandardScaler\n",
    "from sklearn.svm import SVC\n",
    "from sklearn.metrics import accuracy_score\n",
    "from sklearn.pipeline import Pipeline\n",
    "\n",
    "# Create a pipeline with StandardScaler and SVM classifier\n",
    "pipeline = Pipeline([\n",
    "    ('scaler', StandardScaler()),\n",
    "    ('svm', SVC())\n",
    "])\n",
    "\n",
    "# Define the hyperparameter grid to search\n",
    "param_grid = {\n",
    "    'svm__C': [0.1, 1, 10],\n",
    "    'svm__kernel': ['linear', 'rbf'],\n",
    "    'svm__gamma': [0.001, 0.01, 0.1, 1]\n",
    "}\n",
    "\n",
    "# Create a GridSearchCV object to perform hyperparameter tuning\n",
    "grid_search = GridSearchCV(pipeline, param_grid, cv=5, n_jobs=-1)\n",
    "\n",
    "# Fit the grid search to the data\n",
    "grid_search.fit(X_train, y_train)\n",
    "\n",
    "# Get the best parameters and the best estimator\n",
    "best_params = grid_search.best_params_\n",
    "best_estimator = grid_search.best_estimator_\n",
    "\n",
    "print(\"Best Hyperparameters:\", best_params)\n",
    "\n",
    "# Evaluate the model on the test data\n",
    "accuracy = best_estimator.score(X_test, y_test)\n",
    "print(\"Test Accuracy:\", accuracy)"
   ]
  },
  {
   "cell_type": "markdown",
   "id": "ec7c6afe-7d26-4a8a-9816-337cdf5e092b",
   "metadata": {
    "tags": []
   },
   "source": [
    "### Use the Best Parameter"
   ]
  },
  {
   "cell_type": "code",
   "execution_count": 55,
   "id": "a5bf57c5-a7ee-45b8-992d-1b4c3244bb2e",
   "metadata": {
    "tags": []
   },
   "outputs": [
    {
     "data": {
      "text/html": [
       "<style>#sk-container-id-2 {color: black;}#sk-container-id-2 pre{padding: 0;}#sk-container-id-2 div.sk-toggleable {background-color: white;}#sk-container-id-2 label.sk-toggleable__label {cursor: pointer;display: block;width: 100%;margin-bottom: 0;padding: 0.3em;box-sizing: border-box;text-align: center;}#sk-container-id-2 label.sk-toggleable__label-arrow:before {content: \"▸\";float: left;margin-right: 0.25em;color: #696969;}#sk-container-id-2 label.sk-toggleable__label-arrow:hover:before {color: black;}#sk-container-id-2 div.sk-estimator:hover label.sk-toggleable__label-arrow:before {color: black;}#sk-container-id-2 div.sk-toggleable__content {max-height: 0;max-width: 0;overflow: hidden;text-align: left;background-color: #f0f8ff;}#sk-container-id-2 div.sk-toggleable__content pre {margin: 0.2em;color: black;border-radius: 0.25em;background-color: #f0f8ff;}#sk-container-id-2 input.sk-toggleable__control:checked~div.sk-toggleable__content {max-height: 200px;max-width: 100%;overflow: auto;}#sk-container-id-2 input.sk-toggleable__control:checked~label.sk-toggleable__label-arrow:before {content: \"▾\";}#sk-container-id-2 div.sk-estimator input.sk-toggleable__control:checked~label.sk-toggleable__label {background-color: #d4ebff;}#sk-container-id-2 div.sk-label input.sk-toggleable__control:checked~label.sk-toggleable__label {background-color: #d4ebff;}#sk-container-id-2 input.sk-hidden--visually {border: 0;clip: rect(1px 1px 1px 1px);clip: rect(1px, 1px, 1px, 1px);height: 1px;margin: -1px;overflow: hidden;padding: 0;position: absolute;width: 1px;}#sk-container-id-2 div.sk-estimator {font-family: monospace;background-color: #f0f8ff;border: 1px dotted black;border-radius: 0.25em;box-sizing: border-box;margin-bottom: 0.5em;}#sk-container-id-2 div.sk-estimator:hover {background-color: #d4ebff;}#sk-container-id-2 div.sk-parallel-item::after {content: \"\";width: 100%;border-bottom: 1px solid gray;flex-grow: 1;}#sk-container-id-2 div.sk-label:hover label.sk-toggleable__label {background-color: #d4ebff;}#sk-container-id-2 div.sk-serial::before {content: \"\";position: absolute;border-left: 1px solid gray;box-sizing: border-box;top: 0;bottom: 0;left: 50%;z-index: 0;}#sk-container-id-2 div.sk-serial {display: flex;flex-direction: column;align-items: center;background-color: white;padding-right: 0.2em;padding-left: 0.2em;position: relative;}#sk-container-id-2 div.sk-item {position: relative;z-index: 1;}#sk-container-id-2 div.sk-parallel {display: flex;align-items: stretch;justify-content: center;background-color: white;position: relative;}#sk-container-id-2 div.sk-item::before, #sk-container-id-2 div.sk-parallel-item::before {content: \"\";position: absolute;border-left: 1px solid gray;box-sizing: border-box;top: 0;bottom: 0;left: 50%;z-index: -1;}#sk-container-id-2 div.sk-parallel-item {display: flex;flex-direction: column;z-index: 1;position: relative;background-color: white;}#sk-container-id-2 div.sk-parallel-item:first-child::after {align-self: flex-end;width: 50%;}#sk-container-id-2 div.sk-parallel-item:last-child::after {align-self: flex-start;width: 50%;}#sk-container-id-2 div.sk-parallel-item:only-child::after {width: 0;}#sk-container-id-2 div.sk-dashed-wrapped {border: 1px dashed gray;margin: 0 0.4em 0.5em 0.4em;box-sizing: border-box;padding-bottom: 0.4em;background-color: white;}#sk-container-id-2 div.sk-label label {font-family: monospace;font-weight: bold;display: inline-block;line-height: 1.2em;}#sk-container-id-2 div.sk-label-container {text-align: center;}#sk-container-id-2 div.sk-container {/* jupyter's `normalize.less` sets `[hidden] { display: none; }` but bootstrap.min.css set `[hidden] { display: none !important; }` so we also need the `!important` here to be able to override the default hidden behavior on the sphinx rendered scikit-learn.org. See: https://github.com/scikit-learn/scikit-learn/issues/21755 */display: inline-block !important;position: relative;}#sk-container-id-2 div.sk-text-repr-fallback {display: none;}</style><div id=\"sk-container-id-2\" class=\"sk-top-container\"><div class=\"sk-text-repr-fallback\"><pre>Pipeline(steps=[(&#x27;scaler&#x27;, StandardScaler()),\n",
       "                (&#x27;classifier&#x27;, SVC(C=10, gamma=0.001, kernel=&#x27;linear&#x27;))])</pre><b>In a Jupyter environment, please rerun this cell to show the HTML representation or trust the notebook. <br />On GitHub, the HTML representation is unable to render, please try loading this page with nbviewer.org.</b></div><div class=\"sk-container\" hidden><div class=\"sk-item sk-dashed-wrapped\"><div class=\"sk-label-container\"><div class=\"sk-label sk-toggleable\"><input class=\"sk-toggleable__control sk-hidden--visually\" id=\"sk-estimator-id-4\" type=\"checkbox\" ><label for=\"sk-estimator-id-4\" class=\"sk-toggleable__label sk-toggleable__label-arrow\">Pipeline</label><div class=\"sk-toggleable__content\"><pre>Pipeline(steps=[(&#x27;scaler&#x27;, StandardScaler()),\n",
       "                (&#x27;classifier&#x27;, SVC(C=10, gamma=0.001, kernel=&#x27;linear&#x27;))])</pre></div></div></div><div class=\"sk-serial\"><div class=\"sk-item\"><div class=\"sk-estimator sk-toggleable\"><input class=\"sk-toggleable__control sk-hidden--visually\" id=\"sk-estimator-id-5\" type=\"checkbox\" ><label for=\"sk-estimator-id-5\" class=\"sk-toggleable__label sk-toggleable__label-arrow\">StandardScaler</label><div class=\"sk-toggleable__content\"><pre>StandardScaler()</pre></div></div></div><div class=\"sk-item\"><div class=\"sk-estimator sk-toggleable\"><input class=\"sk-toggleable__control sk-hidden--visually\" id=\"sk-estimator-id-6\" type=\"checkbox\" ><label for=\"sk-estimator-id-6\" class=\"sk-toggleable__label sk-toggleable__label-arrow\">SVC</label><div class=\"sk-toggleable__content\"><pre>SVC(C=10, gamma=0.001, kernel=&#x27;linear&#x27;)</pre></div></div></div></div></div></div></div>"
      ],
      "text/plain": [
       "Pipeline(steps=[('scaler', StandardScaler()),\n",
       "                ('classifier', SVC(C=10, gamma=0.001, kernel='linear'))])"
      ]
     },
     "execution_count": 55,
     "metadata": {},
     "output_type": "execute_result"
    }
   ],
   "source": [
    "# Define the pipeline\n",
    "model = Pipeline(steps=[\n",
    "    ('scaler', StandardScaler()),  # Normalization step\n",
    "    ('classifier', SVC(C=10, gamma=0.001, kernel='linear'))  # You can replace this with any other classifier\n",
    "])\n",
    "\n",
    "# Fit the pipeline\n",
    "model.fit(X_train, y_train)\n"
   ]
  },
  {
   "cell_type": "markdown",
   "id": "f097dc69-0acd-475c-89f7-518c141252b7",
   "metadata": {
    "tags": []
   },
   "source": [
    "## Testing / Evaluation"
   ]
  },
  {
   "cell_type": "code",
   "execution_count": 24,
   "id": "d432202f-9e50-41a4-a4ce-72d09c8031eb",
   "metadata": {
    "tags": []
   },
   "outputs": [
    {
     "name": "stdout",
     "output_type": "stream",
     "text": [
      "              precision    recall  f1-score   support\n",
      "\n",
      "           0     1.0000    1.0000    1.0000        15\n",
      "           1     1.0000    1.0000    1.0000         6\n",
      "           2     1.0000    1.0000    1.0000         3\n",
      "           3     1.0000    1.0000    1.0000         5\n",
      "           4     1.0000    1.0000    1.0000        11\n",
      "\n",
      "    accuracy                         1.0000        40\n",
      "   macro avg     1.0000    1.0000    1.0000        40\n",
      "weighted avg     1.0000    1.0000    1.0000        40\n",
      "\n",
      "Support Vector Machines accuracy is: 100.00%\n"
     ]
    },
    {
     "data": {
      "image/png": "[encoded data removed]",
      "text/plain": [
       "<Figure size 600x400 with 2 Axes>"
      ]
     },
     "metadata": {},
     "output_type": "display_data"
    }
   ],
   "source": [
    "# Make predictions\n",
    "y_pred = model.predict(X_test)\n",
    "\n",
    "summary_eval = classification_report(y_test, y_pred, digits=4, zero_division=1)\n",
    "print(summary_eval)\n",
    "\n",
    "# Calculate the confusion matrix\n",
    "cm = confusion_matrix(y_test, y_pred)\n",
    "\n",
    "# Calculate the accuracy score\n",
    "from sklearn.metrics import accuracy_score\n",
    "KNAcc = accuracy_score(y_pred,y_test)\n",
    "print('Support Vector Machines accuracy is: {:.2f}%'.format(KNAcc*100))\n",
    "\n",
    "# Plot the confusion matrix using seaborn heatmap\n",
    "plt.figure(figsize=(6, 4))\n",
    "sns.heatmap(cm, annot=True, fmt='d', cmap='Blues')\n",
    "plt.title('Confusion Matrix: SVM')\n",
    "plt.xlabel('Predicted')\n",
    "plt.ylabel('True')\n",
    "# Save the plot as an image file (e.g., PNG)\n",
    "plt.savefig('confusion_matrix_svm.png')\n",
    "\n",
    "plt.show()"
   ]
  },
  {
   "cell_type": "markdown",
   "id": "2e4df2d0-dd68-4e24-b398-74010818afff",
   "metadata": {
    "tags": []
   },
   "source": [
    "## Save Model and etc."
   ]
  },
  {
   "cell_type": "code",
   "execution_count": 56,
   "id": "04e82c3c-eaf4-4499-beb8-4fa2ef724bb2",
   "metadata": {
    "tags": []
   },
   "outputs": [],
   "source": [
    "# Create a tuple or any container object with your variables\n",
    "data_to_save = (model, drug_encoder, sex_encoder, bp_encoder, cholesterol_encoder)\n",
    "\n",
    "# Open a file in binary write mode\n",
    "with open('svm_drug_model.pkl', 'wb') as file:\n",
    "    # Save the container object\n",
    "    pickle.dump(data_to_save, file)"
   ]
  },
  {
   "cell_type": "markdown",
   "id": "36f8c2cc-c4ba-4fc7-971b-d5579eb7ad5d",
   "metadata": {
    "tags": []
   },
   "source": [
    "## Load Model and Prediction\n",
    "\n",
    "Kernel -> Restart Kernel.."
   ]
  },
  {
   "cell_type": "code",
   "execution_count": 57,
   "id": "fe33c350-44e2-45ed-acd2-0e7f9a2e60a0",
   "metadata": {},
   "outputs": [],
   "source": [
    "import pickle\n",
    "import pandas as pd"
   ]
  },
  {
   "cell_type": "markdown",
   "id": "6e0d6760-67e5-45b4-8150-94557360886b",
   "metadata": {},
   "source": [
    "### Load model"
   ]
  },
  {
   "cell_type": "code",
   "execution_count": 58,
   "id": "cb339035-1a9a-444f-8012-2ffe515793c9",
   "metadata": {
    "tags": []
   },
   "outputs": [],
   "source": [
    "with open('svm_drug_model.pkl', 'rb') as file:\n",
    "    # Load the data from the file\n",
    "    model, drug_encoder, sex_encoder, bp_encoder, cholesterol_encoder = pickle.load(file)"
   ]
  },
  {
   "cell_type": "markdown",
   "id": "3923dc3b-758c-4acd-bea8-c4b8231231ad",
   "metadata": {},
   "source": [
    "### New data"
   ]
  },
  {
   "cell_type": "code",
   "execution_count": 59,
   "id": "79a88fd4-fb02-4d68-9c88-eae624442a74",
   "metadata": {
    "tags": []
   },
   "outputs": [],
   "source": [
    "x_new =  pd.DataFrame() \n",
    "x_new['Age'] = [51]\n",
    "x_new['Sex'] = ['M']\n",
    "x_new['BP'] = ['HIGH']\n",
    "x_new['Cholesterol'] = ['NORMAL']\n",
    "x_new['Na_to_K'] = [11.343]"
   ]
  },
  {
   "cell_type": "markdown",
   "id": "3cf6649f-0fbb-4f8d-923d-225ba7124dbd",
   "metadata": {},
   "source": [
    "### Categorical Data Encoding"
   ]
  },
  {
   "cell_type": "code",
   "execution_count": 60,
   "id": "35018b28-e79a-4feb-ae63-7ef1be8e21e3",
   "metadata": {},
   "outputs": [],
   "source": [
    "x_new['Sex'] = sex_encoder.transform(x_new['Sex'])\n",
    "x_new['BP'] = bp_encoder.transform(x_new['BP'])\n",
    "x_new['Cholesterol'] = cholesterol_encoder.transform(x_new['Cholesterol'])"
   ]
  },
  {
   "cell_type": "markdown",
   "id": "0aef3cea-f253-47af-a91e-b0a78d6cbfa7",
   "metadata": {},
   "source": [
    "### Predicting"
   ]
  },
  {
   "cell_type": "code",
   "execution_count": 61,
   "id": "09636736-751f-434a-ad8b-23e9e6ca5af7",
   "metadata": {
    "tags": []
   },
   "outputs": [
    {
     "name": "stdout",
     "output_type": "stream",
     "text": [
      "Predicted drug type:  ['drugA']\n"
     ]
    }
   ],
   "source": [
    "y_pred_new = model.predict(x_new)\n",
    "\n",
    "result = drug_encoder.inverse_transform(y_pred_new) \n",
    "\n",
    "print('Predicted drug type: ', result)"
   ]
  },
  {
   "cell_type": "markdown",
   "id": "590ddfea-2858-4d21-ade0-a601775a671c",
   "metadata": {},
   "source": [
    "## Create app_predict_knn_penguin.py for Running with streamlit\n",
    "\n",
    "Run: streamlit run app_predict_knn_penguin.py"
   ]
  },
  {
   "cell_type": "code",
   "execution_count": 32,
   "id": "794d82c7-c237-4122-ac53-8739635eb7dd",
   "metadata": {},
   "outputs": [
    {
     "name": "stdout",
     "output_type": "stream",
     "text": [
      "Overwriting app_predict_svm_drug.py\n"
     ]
    }
   ],
   "source": [
    "%%writefile app_predict_svm_drug.py\n",
    "import streamlit as st\n",
    "import numpy as np \n",
    "import pandas as pd \n",
    "from sklearn.pipeline import Pipeline\n",
    "from sklearn.preprocessing import LabelEncoder\n",
    "from sklearn.preprocessing import StandardScaler\n",
    "from sklearn.svm import SVC\n",
    "import pickle\n",
    "\n",
    "# Load model\n",
    "with open('svm_drug_model.pkl', 'rb') as file:\n",
    "    model, drug_encoder, sex_encoder, bp_encoder, cholesterol_encoder = pickle.load(file)\n",
    "\n",
    "# Streamlit app\n",
    "st.title(\"Drug Type Prediction\")\n",
    "\n",
    "# Get user input for each variable\n",
    "age_input = st.slider('Enter Age:', 15, 75, 51)\n",
    "sex_input = st.selectbox('Select Sex:', ['M', 'F'])\n",
    "bp_input = st.selectbox('Select Blood Pressure Levels (BP):', ['LOW', 'NORMAL','HIGH'])\n",
    "cholesterol_input = st.selectbox('Select Cholesterol Levels:', ['NORMAL','HIGH'])\n",
    "Na_to_K_input = st.number_input('Na to Potassium Ration:', min_value=0.00, max_value=50.00, step=0.001, format=\"%.3f\")\n",
    "\n",
    "# Create a DataFrame with user input\n",
    "x_new = pd.DataFrame({\n",
    "    'Age': [age_input],\n",
    "    'Sex': [sex_input],\n",
    "    'BP': [bp_input],\n",
    "    'Cholesterol': [cholesterol_input],\n",
    "    'Na_to_K': [Na_to_K_input]\n",
    "})\n",
    "\n",
    "# Encoding\n",
    "x_new['Sex'] = sex_encoder.transform(x_new['Sex'])\n",
    "x_new['BP'] = bp_encoder.transform(x_new['BP'])\n",
    "x_new['Cholesterol'] = cholesterol_encoder.transform(x_new['Cholesterol'])\n",
    "\n",
    "# Prediction function\n",
    "def predict_drug():\n",
    "    y_pred_new = model.predict(x_new)\n",
    "    result = drug_encoder.inverse_transform(y_pred_new)\n",
    "    return result[0]\n",
    "\n",
    "# \"Predict\" button\n",
    "if st.button('Predict'):\n",
    "    result = predict_drug()\n",
    "    st.subheader('Prediction Result:')\n",
    "    st.write(f'{result}')"
   ]
  },
  {
   "cell_type": "code",
   "execution_count": null,
   "id": "334c6141-f3b0-4001-a661-f830c523ed68",
   "metadata": {},
   "outputs": [],
   "source": []
  }
 ],
 "metadata": {
  "kernelspec": {
   "display_name": "Python 3 (ipykernel)",
   "language": "python",
   "name": "python3"
  },
  "language_info": {
   "codemirror_mode": {
    "name": "ipython",
    "version": 3
   },
   "file_extension": ".py",
   "mimetype": "text/x-python",
   "name": "python",
   "nbconvert_exporter": "python",
   "pygments_lexer": "ipython3",
   "version": "3.11.6"
  }
 },
 "nbformat": 4,
 "nbformat_minor": 5
}
